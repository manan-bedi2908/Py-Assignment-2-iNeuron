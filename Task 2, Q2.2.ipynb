{
 "cells": [
  {
   "cell_type": "markdown",
   "metadata": {},
   "source": [
    "# Task 2, Q2.2 : Write a Python function which takes a character (i.e. a string of length 1) and returns True if it is a vowel, False otherwise.\n"
   ]
  },
  {
   "cell_type": "code",
   "execution_count": 6,
   "metadata": {},
   "outputs": [
    {
     "name": "stdout",
     "output_type": "stream",
     "text": [
      "Enter a character to check if it is a vowel: E\n",
      "True\n"
     ]
    }
   ],
   "source": [
    "def is_vowel(ch):\n",
    "    if(ch=='a' or ch=='e' or ch=='i' or ch=='o' or ch=='u'):\n",
    "        return True\n",
    "    else:\n",
    "        return False\n",
    "\n",
    "ch = input(\"Enter a character to check if it is a vowel: \")\n",
    "print(is_vowel(ch.lower()))"
   ]
  },
  {
   "cell_type": "code",
   "execution_count": null,
   "metadata": {},
   "outputs": [],
   "source": []
  }
 ],
 "metadata": {
  "kernelspec": {
   "display_name": "Python 3",
   "language": "python",
   "name": "python3"
  },
  "language_info": {
   "codemirror_mode": {
    "name": "ipython",
    "version": 3
   },
   "file_extension": ".py",
   "mimetype": "text/x-python",
   "name": "python",
   "nbconvert_exporter": "python",
   "pygments_lexer": "ipython3",
   "version": "3.7.6"
  }
 },
 "nbformat": 4,
 "nbformat_minor": 4
}
