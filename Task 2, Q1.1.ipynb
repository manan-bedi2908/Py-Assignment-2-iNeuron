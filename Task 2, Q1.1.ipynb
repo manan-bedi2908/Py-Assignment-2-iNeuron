{
 "cells": [
  {
   "cell_type": "code",
   "execution_count": 15,
   "metadata": {},
   "outputs": [
    {
     "name": "stdout",
     "output_type": "stream",
     "text": [
      "6.0\n"
     ]
    }
   ],
   "source": [
    "from math import sqrt\n",
    "class triangle():\n",
    "     def __init__(self,a,b,c):\n",
    "            self.a=a\n",
    "            self.b=b\n",
    "            self.c=c\n",
    "     def area(self):\n",
    "        s=(a+b+c)/2\n",
    "        return sqrt(s*(s-a)*(s-b)*(s-c))\n",
    "    \n",
    "\n",
    "a=5\n",
    "b=4\n",
    "c=3\n",
    "print(area_triangle(a,b,c))"
   ]
  },
  {
   "cell_type": "code",
   "execution_count": null,
   "metadata": {},
   "outputs": [],
   "source": []
  },
  {
   "cell_type": "code",
   "execution_count": null,
   "metadata": {},
   "outputs": [],
   "source": []
  }
 ],
 "metadata": {
  "kernelspec": {
   "display_name": "Python 3",
   "language": "python",
   "name": "python3"
  },
  "language_info": {
   "codemirror_mode": {
    "name": "ipython",
    "version": 3
   },
   "file_extension": ".py",
   "mimetype": "text/x-python",
   "name": "python",
   "nbconvert_exporter": "python",
   "pygments_lexer": "ipython3",
   "version": "3.7.6"
  }
 },
 "nbformat": 4,
 "nbformat_minor": 4
}
