{
 "cells": [
  {
   "cell_type": "markdown",
   "metadata": {},
   "source": [
    "# Task 1, Q1.2 : Write a Python program to implement your own myfilter() function which works exactly like Python's built-in function filter()\n"
   ]
  },
  {
   "cell_type": "code",
   "execution_count": 6,
   "metadata": {},
   "outputs": [
    {
     "name": "stdout",
     "output_type": "stream",
     "text": [
      "Positive integers in the list are :  [6, 7, 8, 9, 12]\n"
     ]
    }
   ],
   "source": [
    "# Custom filter function \n",
    "def myfilter(is_positive, l):\n",
    "\n",
    " # Initialize empty list\n",
    " positive_numbers = []\n",
    " # iterate over sequence of items in sequence and apply filter function\n",
    " for i in l:\n",
    "        if is_positive(i):\n",
    "            positive_numbers.append(i)\n",
    "\n",
    " # return funal output\n",
    " return positive_numbers\n",
    "\n",
    "l = [-4,-5,6,7,8,9,12]\n",
    "print (\"Positive integers in the list are : \", myfilter(lambda x: False if x<=0 else True, l))"
   ]
  },
  {
   "cell_type": "code",
   "execution_count": null,
   "metadata": {},
   "outputs": [],
   "source": []
  },
  {
   "cell_type": "code",
   "execution_count": null,
   "metadata": {},
   "outputs": [],
   "source": []
  }
 ],
 "metadata": {
  "kernelspec": {
   "display_name": "Python 3",
   "language": "python",
   "name": "python3"
  },
  "language_info": {
   "codemirror_mode": {
    "name": "ipython",
    "version": 3
   },
   "file_extension": ".py",
   "mimetype": "text/x-python",
   "name": "python",
   "nbconvert_exporter": "python",
   "pygments_lexer": "ipython3",
   "version": "3.7.6"
  }
 },
 "nbformat": 4,
 "nbformat_minor": 4
}
